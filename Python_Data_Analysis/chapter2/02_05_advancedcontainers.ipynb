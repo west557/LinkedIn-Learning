{
 "cells": [
  {
   "cell_type": "markdown",
   "metadata": {},
   "source": [
    "# 02_05: Advanced Containers"
   ]
  },
  {
   "cell_type": "code",
   "execution_count": null,
   "metadata": {},
   "outputs": [],
   "source": [
    "# note: this notebook requires Python 3.7 or higher;\n",
    "# it will work with Python 3.6 if you run \"!pip install dataclasses\" in a cell"
   ]
  },
  {
   "cell_type": "code",
   "execution_count": 1,
   "metadata": {
    "tags": []
   },
   "outputs": [],
   "source": [
    "import math\n",
    "import collections\n",
    "\n",
    "import numpy as np\n",
    "import pandas as pd\n",
    "import matplotlib.pyplot as pp\n",
    "\n",
    "%matplotlib inline   "
   ]
  },
  {
   "cell_type": "code",
   "execution_count": 2,
   "metadata": {
    "tags": []
   },
   "outputs": [],
   "source": [
    "people = [(\"Michele\", \"Vallisneri\", \"July 15\"),\n",
    "          (\"Albert\", \"Einstein\", \"March 14\"),\n",
    "          (\"John\", \"Lennon\", \"October 9\"),\n",
    "          (\"Jocelyn\", \"Bell Burnell\", \"July 15\")]"
   ]
  },
  {
   "cell_type": "code",
   "execution_count": 3,
   "metadata": {
    "tags": []
   },
   "outputs": [
    {
     "data": {
      "text/plain": [
       "'Michele'"
      ]
     },
     "execution_count": 3,
     "metadata": {},
     "output_type": "execute_result"
    }
   ],
   "source": [
    "people[0][0]\n",
    "# useful comprehensions to find all the certain ones. "
   ]
  },
  {
   "cell_type": "code",
   "execution_count": 4,
   "metadata": {
    "tags": []
   },
   "outputs": [
    {
     "data": {
      "text/plain": [
       "'Vallisneri'"
      ]
     },
     "execution_count": 4,
     "metadata": {},
     "output_type": "execute_result"
    }
   ],
   "source": [
    "people[0][1]"
   ]
  },
  {
   "cell_type": "code",
   "execution_count": 5,
   "metadata": {
    "tags": []
   },
   "outputs": [
    {
     "data": {
      "text/plain": [
       "[('Michele', 'Vallisneri', 'July 15'), ('Jocelyn', 'Bell Burnell', 'July 15')]"
      ]
     },
     "execution_count": 5,
     "metadata": {},
     "output_type": "execute_result"
    }
   ],
   "source": [
    "[person for person in people if person[2] == \"July 15\"]"
   ]
  },
  {
   "cell_type": "code",
   "execution_count": 13,
   "metadata": {
    "tags": []
   },
   "outputs": [],
   "source": [
    "# defining the namedtuple \"person\"\n",
    "# lets you create a specialist tuple that has a name and associates labels with fields. \n",
    "persontype = collections.namedtuple('person', ['firstname', 'lastname', \"birthday\"])"
   ]
  },
  {
   "cell_type": "code",
   "execution_count": 7,
   "metadata": {
    "tags": []
   },
   "outputs": [],
   "source": [
    "michele = persontype(\"Michele\", \"Vallisneri\", \"July 15\")"
   ]
  },
  {
   "cell_type": "code",
   "execution_count": 8,
   "metadata": {
    "tags": []
   },
   "outputs": [],
   "source": [
    "michele = persontype(lastname=\"Vallisneri\", firstname=\"Michele\", birthday=\"July 15\")"
   ]
  },
  {
   "cell_type": "code",
   "execution_count": 9,
   "metadata": {
    "tags": []
   },
   "outputs": [
    {
     "data": {
      "text/plain": [
       "person(firstname='Michele', lastname='Vallisneri', birthday='July 15')"
      ]
     },
     "execution_count": 9,
     "metadata": {},
     "output_type": "execute_result"
    }
   ],
   "source": [
    "michele"
   ]
  },
  {
   "cell_type": "code",
   "execution_count": 10,
   "metadata": {
    "tags": []
   },
   "outputs": [
    {
     "data": {
      "text/plain": [
       "('Michele', 'Vallisneri', 'July 15')"
      ]
     },
     "execution_count": 10,
     "metadata": {},
     "output_type": "execute_result"
    }
   ],
   "source": [
    "michele[0], michele[1], michele[2]"
   ]
  },
  {
   "cell_type": "code",
   "execution_count": 11,
   "metadata": {
    "tags": []
   },
   "outputs": [
    {
     "data": {
      "text/plain": [
       "('Michele', 'Vallisneri', 'July 15')"
      ]
     },
     "execution_count": 11,
     "metadata": {},
     "output_type": "execute_result"
    }
   ],
   "source": [
    "michele.firstname, michele.lastname, michele.birthday\n",
    "# name tuples print nicely. "
   ]
  },
  {
   "cell_type": "code",
   "execution_count": 14,
   "metadata": {
    "tags": []
   },
   "outputs": [
    {
     "ename": "TypeError",
     "evalue": "person.__new__() missing 2 required positional arguments: 'lastname' and 'birthday'",
     "output_type": "error",
     "traceback": [
      "\u001b[0;31m---------------------------------------------------------------------------\u001b[0m",
      "\u001b[0;31mTypeError\u001b[0m                                 Traceback (most recent call last)",
      "Cell \u001b[0;32mIn[14], line 1\u001b[0m\n\u001b[0;32m----> 1\u001b[0m \u001b[43mpersontype\u001b[49m\u001b[43m(\u001b[49m\u001b[43mpeople\u001b[49m\u001b[43m[\u001b[49m\u001b[38;5;241;43m0\u001b[39;49m\u001b[43m]\u001b[49m\u001b[43m)\u001b[49m\n",
      "\u001b[0;31mTypeError\u001b[0m: person.__new__() missing 2 required positional arguments: 'lastname' and 'birthday'"
     ]
    }
   ],
   "source": [
    "persontype(people[0])\n",
    "# needs three arguments. There are two missing. "
   ]
  },
  {
   "cell_type": "code",
   "execution_count": 15,
   "metadata": {
    "tags": []
   },
   "outputs": [
    {
     "data": {
      "text/plain": [
       "person(firstname='Michele', lastname='Vallisneri', birthday='July 15')"
      ]
     },
     "execution_count": 15,
     "metadata": {},
     "output_type": "execute_result"
    }
   ],
   "source": [
    "# use tuple unpacking on people[0] to build a namedtuple\n",
    "persontype(*people[0])\n",
    "# unpacks all of the lements since the star is present. "
   ]
  },
  {
   "cell_type": "code",
   "execution_count": 16,
   "metadata": {
    "tags": []
   },
   "outputs": [],
   "source": [
    "namedpeople = [persontype(*person) for person in people]"
   ]
  },
  {
   "cell_type": "code",
   "execution_count": 17,
   "metadata": {
    "tags": []
   },
   "outputs": [
    {
     "data": {
      "text/plain": [
       "[person(firstname='Michele', lastname='Vallisneri', birthday='July 15'),\n",
       " person(firstname='Albert', lastname='Einstein', birthday='March 14'),\n",
       " person(firstname='John', lastname='Lennon', birthday='October 9'),\n",
       " person(firstname='Jocelyn', lastname='Bell Burnell', birthday='July 15')]"
      ]
     },
     "execution_count": 17,
     "metadata": {},
     "output_type": "execute_result"
    }
   ],
   "source": [
    "namedpeople"
   ]
  },
  {
   "cell_type": "code",
   "execution_count": 18,
   "metadata": {
    "tags": []
   },
   "outputs": [
    {
     "data": {
      "text/plain": [
       "[person(firstname='Michele', lastname='Vallisneri', birthday='July 15'),\n",
       " person(firstname='Jocelyn', lastname='Bell Burnell', birthday='July 15')]"
      ]
     },
     "execution_count": 18,
     "metadata": {},
     "output_type": "execute_result"
    }
   ],
   "source": [
    "[person for person in namedpeople if person.birthday == \"July 15\"]"
   ]
  },
  {
   "cell_type": "code",
   "execution_count": null,
   "metadata": {},
   "outputs": [],
   "source": [
    "# !pip install dataclasses"
   ]
  },
  {
   "cell_type": "code",
   "execution_count": 19,
   "metadata": {
    "tags": []
   },
   "outputs": [],
   "source": [
    "from dataclasses import dataclass"
   ]
  },
  {
   "cell_type": "code",
   "execution_count": 20,
   "metadata": {
    "tags": []
   },
   "outputs": [],
   "source": [
    "# defining a data class with the same content as the \"person\" nametuple\n",
    "# and with a default for \"birthday\"\n",
    "\n",
    "@dataclass\n",
    "class personclass:\n",
    "    firstname: str\n",
    "    lastname: str\n",
    "    birthday: str = 'unknown'"
   ]
  },
  {
   "cell_type": "code",
   "execution_count": 21,
   "metadata": {
    "tags": []
   },
   "outputs": [],
   "source": [
    "michele = personclass('Michele', 'Vallisneri')"
   ]
  },
  {
   "cell_type": "code",
   "execution_count": 22,
   "metadata": {
    "tags": []
   },
   "outputs": [
    {
     "data": {
      "text/plain": [
       "personclass(firstname='Michele', lastname='Vallisneri', birthday='unknown')"
      ]
     },
     "execution_count": 22,
     "metadata": {},
     "output_type": "execute_result"
    }
   ],
   "source": [
    "michele"
   ]
  },
  {
   "cell_type": "code",
   "execution_count": 23,
   "metadata": {
    "tags": []
   },
   "outputs": [],
   "source": [
    "michele = personclass(firstname='Michele', lastname='Vallisneri')"
   ]
  },
  {
   "cell_type": "code",
   "execution_count": 24,
   "metadata": {
    "tags": []
   },
   "outputs": [
    {
     "data": {
      "text/plain": [
       "('Michele', 'Vallisneri', 'unknown')"
      ]
     },
     "execution_count": 24,
     "metadata": {},
     "output_type": "execute_result"
    }
   ],
   "source": [
    "michele.firstname, michele.lastname, michele.birthday"
   ]
  },
  {
   "cell_type": "code",
   "execution_count": 25,
   "metadata": {
    "tags": []
   },
   "outputs": [
    {
     "ename": "TypeError",
     "evalue": "'personclass' object is not subscriptable",
     "output_type": "error",
     "traceback": [
      "\u001b[0;31m---------------------------------------------------------------------------\u001b[0m",
      "\u001b[0;31mTypeError\u001b[0m                                 Traceback (most recent call last)",
      "Cell \u001b[0;32mIn[25], line 1\u001b[0m\n\u001b[0;32m----> 1\u001b[0m \u001b[43mmichele\u001b[49m\u001b[43m[\u001b[49m\u001b[38;5;241;43m0\u001b[39;49m\u001b[43m]\u001b[49m\n",
      "\u001b[0;31mTypeError\u001b[0m: 'personclass' object is not subscriptable"
     ]
    }
   ],
   "source": [
    "michele[0]"
   ]
  },
  {
   "cell_type": "code",
   "execution_count": 26,
   "metadata": {
    "tags": []
   },
   "outputs": [
    {
     "name": "stdout",
     "output_type": "stream",
     "text": [
      "personclass(firstname='Michele', lastname='Vallisneri', birthday='unknown')\n"
     ]
    }
   ],
   "source": [
    "print(michele)"
   ]
  },
  {
   "cell_type": "code",
   "execution_count": 30,
   "metadata": {
    "tags": []
   },
   "outputs": [],
   "source": [
    "# updating the data class \"personclass\" so that it can compute a person's full name\n",
    "\n",
    "@dataclass # class decorators. Basically telling python to create a type of records with all fields as strings. \n",
    "class personclass2:\n",
    "    firstname: str\n",
    "    lastname: str\n",
    "    birthday: str = 'unknown'\n",
    "    \n",
    "    # all methods in a class carry a conventional argument \"self\";\n",
    "    # when the methods are called on an instance (here, a specific person),\n",
    "    # \"self\" points the instance itself, so self.firstname and self.lastname\n",
    "    # are the data fields in that instance\n",
    "    def fullname(self):\n",
    "        return self.firstname + ' ' + self.lastname"
   ]
  },
  {
   "cell_type": "code",
   "execution_count": 31,
   "metadata": {
    "tags": []
   },
   "outputs": [],
   "source": [
    "michele = personclass2('Michele', 'Vallisneri', 'July 15')"
   ]
  },
  {
   "cell_type": "code",
   "execution_count": 32,
   "metadata": {
    "tags": []
   },
   "outputs": [
    {
     "data": {
      "text/plain": [
       "'Michele Vallisneri'"
      ]
     },
     "execution_count": 32,
     "metadata": {},
     "output_type": "execute_result"
    }
   ],
   "source": [
    "michele.fullname()"
   ]
  },
  {
   "cell_type": "code",
   "execution_count": 36,
   "metadata": {
    "tags": []
   },
   "outputs": [],
   "source": [
    "def mydefault():\n",
    "    return \"I don't know\""
   ]
  },
  {
   "cell_type": "code",
   "execution_count": 37,
   "metadata": {
    "tags": []
   },
   "outputs": [],
   "source": [
    "questions = collections.defaultdict(mydefault)"
   ]
  },
  {
   "cell_type": "code",
   "execution_count": 38,
   "metadata": {
    "tags": []
   },
   "outputs": [
    {
     "data": {
      "text/plain": [
       "\"I don't know\""
      ]
     },
     "execution_count": 38,
     "metadata": {},
     "output_type": "execute_result"
    }
   ],
   "source": [
    "questions['The meaning of life']\n",
    "# when you are building a dictionary when each key corresponds to a list of items. "
   ]
  },
  {
   "cell_type": "code",
   "execution_count": 39,
   "metadata": {
    "tags": []
   },
   "outputs": [
    {
     "data": {
      "text/plain": [
       "defaultdict(<function __main__.mydefault()>,\n",
       "            {'The meaning of life': \"I don't know\"})"
      ]
     },
     "execution_count": 39,
     "metadata": {},
     "output_type": "execute_result"
    }
   ],
   "source": [
    "questions"
   ]
  },
  {
   "cell_type": "code",
   "execution_count": 40,
   "metadata": {
    "tags": []
   },
   "outputs": [],
   "source": [
    "# creating a dict where a key maps to a list requires awkward code\n",
    "# to create the list when a key is first seen...\n",
    "\n",
    "birthdays = {}\n",
    "\n",
    "for person in namedpeople:\n",
    "    if person.birthday in birthdays:\n",
    "        birthdays[person.birthday].append(person.firstname)\n",
    "    else:\n",
    "        birthdays[person.birthday] = [person.firstname]"
   ]
  },
  {
   "cell_type": "code",
   "execution_count": 41,
   "metadata": {
    "tags": []
   },
   "outputs": [
    {
     "data": {
      "text/plain": [
       "{'July 15': ['Michele', 'Jocelyn'],\n",
       " 'March 14': ['Albert'],\n",
       " 'October 9': ['John']}"
      ]
     },
     "execution_count": 41,
     "metadata": {},
     "output_type": "execute_result"
    }
   ],
   "source": [
    "birthdays"
   ]
  },
  {
   "cell_type": "code",
   "execution_count": 45,
   "metadata": {
    "tags": []
   },
   "outputs": [
    {
     "data": {
      "text/plain": [
       "[]"
      ]
     },
     "execution_count": 45,
     "metadata": {},
     "output_type": "execute_result"
    }
   ],
   "source": [
    "list()\n",
    "# taking advantage of the ault that list returned as a function returns an empty list. \n",
    "# Therefore looping over person can go straight into getting the key of the Bday and appending to the resulting list. "
   ]
  },
  {
   "cell_type": "code",
   "execution_count": 46,
   "metadata": {
    "tags": []
   },
   "outputs": [],
   "source": [
    "# ...but it happens elegantly with defaultdict\n",
    "\n",
    "birthdays = collections.defaultdict(list)\n",
    "\n",
    "for person in namedpeople:\n",
    "    birthdays[person.birthday].append(person.firstname)"
   ]
  },
  {
   "cell_type": "code",
   "execution_count": 47,
   "metadata": {
    "tags": []
   },
   "outputs": [
    {
     "data": {
      "text/plain": [
       "defaultdict(list,\n",
       "            {'July 15': ['Michele', 'Jocelyn'],\n",
       "             'March 14': ['Albert'],\n",
       "             'October 9': ['John']})"
      ]
     },
     "execution_count": 47,
     "metadata": {},
     "output_type": "execute_result"
    }
   ],
   "source": [
    "birthdays"
   ]
  },
  {
   "cell_type": "code",
   "execution_count": null,
   "metadata": {},
   "outputs": [],
   "source": []
  }
 ],
 "metadata": {
  "kernelspec": {
   "display_name": "Python 3 (ipykernel)",
   "language": "python",
   "name": "python3"
  },
  "language_info": {
   "codemirror_mode": {
    "name": "ipython",
    "version": 3
   },
   "file_extension": ".py",
   "mimetype": "text/x-python",
   "name": "python",
   "nbconvert_exporter": "python",
   "pygments_lexer": "ipython3",
   "version": "3.10.4"
  }
 },
 "nbformat": 4,
 "nbformat_minor": 4
}
